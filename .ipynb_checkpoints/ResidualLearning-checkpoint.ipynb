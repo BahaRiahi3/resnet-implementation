{
 "cells": [
  {
   "cell_type": "code",
   "execution_count": 1,
   "id": "6cff5f41-7cc6-463a-93f5-dde75c49e1b7",
   "metadata": {},
   "outputs": [
    {
     "data": {
      "text/plain": [
       "'2.6.0+cu118'"
      ]
     },
     "execution_count": 1,
     "metadata": {},
     "output_type": "execute_result"
    }
   ],
   "source": [
    "import torch\n",
    "import torch.nn as nn\n",
    "import torchvision\n",
    "from torchvision import datasets\n",
    "from torchvision.transforms import ToTensor\n",
    "torch.__version__"
   ]
  },
  {
   "cell_type": "code",
   "execution_count": 2,
   "id": "0cf4651f-7318-4263-98ca-f7312d9cb767",
   "metadata": {},
   "outputs": [
    {
     "data": {
      "text/plain": [
       "'Cuda'"
      ]
     },
     "execution_count": 2,
     "metadata": {},
     "output_type": "execute_result"
    }
   ],
   "source": [
    "device = \"Cuda\" if torch.cuda.is_available() else \"CPU\"\n",
    "device"
   ]
  },
  {
   "cell_type": "code",
   "execution_count": 3,
   "id": "df1b5cb0-f92a-447d-bf5c-9eb4cb22473b",
   "metadata": {},
   "outputs": [],
   "source": [
    "import torchvision.transforms as transforms\n",
    "transform = transforms.Compose([\n",
    "    transforms.RandomHorizontalFlip(),  # Randomly flip images horizontally for augmentation\n",
    "    transforms.RandomRotation(10),      # Randomly rotate images by a certain angle\n",
    "    transforms.ToTensor(),              # Convert to tensor\n",
    "    transforms.Normalize(mean=[0.5], std=[0.5])  # Normalize the image\n",
    "])\n",
    "\n",
    "\n",
    "\n",
    "# Setup training data\n",
    "train_data = datasets.FashionMNIST(\n",
    "    root=\"data\", # where to download data to?\n",
    "    train=True, # get training data\n",
    "    download=True, # download data if it doesn't exist on disk\n",
    "    transform=transform, # images come as PIL format, we want to turn into Torch tensors\n",
    "    target_transform=None # you can transform labels as well\n",
    ")\n",
    "\n",
    "# Setup testing data\n",
    "test_data = datasets.FashionMNIST(\n",
    "    root=\"data\",\n",
    "    train=False, # get test data\n",
    "    download=True,\n",
    "    transform=transforms.Compose([  # Apply the same transformations to the test data\n",
    "        transforms.ToTensor(),  # Convert to tensor\n",
    "        transforms.Normalize(mean=[0.5], std=[0.5])  # Normalize the image\n",
    "    ]) \n",
    ")"
   ]
  },
  {
   "cell_type": "code",
   "execution_count": 4,
   "id": "a1c8099e-d549-437a-af5a-01e1ed9ce56c",
   "metadata": {},
   "outputs": [
    {
     "name": "stdout",
     "output_type": "stream",
     "text": [
      "torch.Size([1, 28, 28])\n",
      "9\n"
     ]
    }
   ],
   "source": [
    "image, label = train_data[0]\n",
    "image, label\n",
    "print(image.shape)\n",
    "print(label)"
   ]
  },
  {
   "cell_type": "code",
   "execution_count": 5,
   "id": "fea91dd4-77df-4253-b2e0-4d1ef5b812b2",
   "metadata": {},
   "outputs": [
    {
     "data": {
      "text/plain": [
       "['T-shirt/top',\n",
       " 'Trouser',\n",
       " 'Pullover',\n",
       " 'Dress',\n",
       " 'Coat',\n",
       " 'Sandal',\n",
       " 'Shirt',\n",
       " 'Sneaker',\n",
       " 'Bag',\n",
       " 'Ankle boot']"
      ]
     },
     "execution_count": 5,
     "metadata": {},
     "output_type": "execute_result"
    }
   ],
   "source": [
    "train_data.classes"
   ]
  },
  {
   "cell_type": "code",
   "execution_count": 6,
   "id": "09c8c59b-4ae0-475e-bb21-f7c72e5b6b31",
   "metadata": {},
   "outputs": [],
   "source": [
    "class CNN(nn.Module):\n",
    "    def __init__(self, input_channels : int, hidden_layers : int, out_shape : int):\n",
    "        super().__init__()\n",
    "        self.conv_block = nn.Sequential(\n",
    "            nn.Conv2d(in_channels = input_channels, out_channels = hidden_layers, kernel_size = 3, stride=1, padding=1),\n",
    "            nn.ReLU(),\n",
    "            nn.Conv2d(in_channels = hidden_layers, out_channels = hidden_layers, kernel_size = 3, stride=1, padding=1),\n",
    "            nn.MaxPool2d(kernel_size=2, stride=2)\n",
    "        )\n",
    "        self.classifier = nn.Sequential(\n",
    "            nn.Flatten(),\n",
    "            nn.Linear(hidden_layers*14*14, out_shape)\n",
    "        )\n",
    "    def forward(self, x):\n",
    "        x = self.conv_block(x)\n",
    "        x = self.classifier(x)\n",
    "        return x"
   ]
  },
  {
   "cell_type": "code",
   "execution_count": 7,
   "id": "03ac9ccf-0f82-4495-9a03-f27067906311",
   "metadata": {},
   "outputs": [],
   "source": [
    "first_model = CNN(1, 15, 10)"
   ]
  },
  {
   "cell_type": "code",
   "execution_count": 8,
   "id": "048495ca-b963-460c-81ab-eb7487bc1105",
   "metadata": {},
   "outputs": [],
   "source": [
    "training_loader = torch.utils.data.DataLoader(train_data, batch_size=32, shuffle=True)\n",
    "validation_loader = torch.utils.data.DataLoader(test_data, batch_size=32, shuffle=False)"
   ]
  },
  {
   "cell_type": "code",
   "execution_count": 9,
   "id": "4fa6c048-562d-401e-89c8-a12c0c1d2465",
   "metadata": {},
   "outputs": [
    {
     "name": "stdout",
     "output_type": "stream",
     "text": [
      "this is the 0 epoch\n",
      "here's the loss good sir 0.6792589426040649\n",
      "this is the 1 epoch\n",
      "here's the loss good sir 0.48133474588394165\n",
      "this is the 2 epoch\n",
      "here's the loss good sir 0.4341890513896942\n",
      "this is the 3 epoch\n",
      "here's the loss good sir 0.409885436296463\n",
      "this is the 4 epoch\n",
      "here's the loss good sir 0.3930984139442444\n",
      "this is the 5 epoch\n",
      "here's the loss good sir 0.3782317638397217\n",
      "this is the 6 epoch\n",
      "here's the loss good sir 0.36713215708732605\n",
      "this is the 7 epoch\n",
      "here's the loss good sir 0.3563550114631653\n",
      "this is the 8 epoch\n",
      "here's the loss good sir 0.346588671207428\n",
      "this is the 9 epoch\n",
      "here's the loss good sir 0.33774417638778687\n",
      "this is the 10 epoch\n",
      "here's the loss good sir 0.3321487307548523\n",
      "this is the 11 epoch\n",
      "here's the loss good sir 0.32562288641929626\n",
      "this is the 12 epoch\n",
      "here's the loss good sir 0.3194003701210022\n",
      "this is the 13 epoch\n",
      "here's the loss good sir 0.31616437435150146\n",
      "this is the 14 epoch\n",
      "here's the loss good sir 0.3096082806587219\n",
      "this is the 15 epoch\n",
      "here's the loss good sir 0.3049693703651428\n",
      "this is the 16 epoch\n",
      "here's the loss good sir 0.30165770649909973\n",
      "this is the 17 epoch\n",
      "here's the loss good sir 0.29992932081222534\n",
      "this is the 18 epoch\n",
      "here's the loss good sir 0.2950788140296936\n",
      "this is the 19 epoch\n",
      "here's the loss good sir 0.2912909686565399\n",
      "this is the 20 epoch\n",
      "here's the loss good sir 0.2897554039955139\n",
      "this is the 21 epoch\n",
      "here's the loss good sir 0.28518134355545044\n",
      "this is the 22 epoch\n",
      "here's the loss good sir 0.28225648403167725\n",
      "this is the 23 epoch\n",
      "here's the loss good sir 0.28042906522750854\n",
      "this is the 24 epoch\n",
      "here's the loss good sir 0.27651864290237427\n",
      "[tensor(0.6793, grad_fn=<DivBackward0>), tensor(0.4813, grad_fn=<DivBackward0>), tensor(0.4342, grad_fn=<DivBackward0>), tensor(0.4099, grad_fn=<DivBackward0>), tensor(0.3931, grad_fn=<DivBackward0>), tensor(0.3782, grad_fn=<DivBackward0>), tensor(0.3671, grad_fn=<DivBackward0>), tensor(0.3564, grad_fn=<DivBackward0>), tensor(0.3466, grad_fn=<DivBackward0>), tensor(0.3377, grad_fn=<DivBackward0>), tensor(0.3321, grad_fn=<DivBackward0>), tensor(0.3256, grad_fn=<DivBackward0>), tensor(0.3194, grad_fn=<DivBackward0>), tensor(0.3162, grad_fn=<DivBackward0>), tensor(0.3096, grad_fn=<DivBackward0>), tensor(0.3050, grad_fn=<DivBackward0>), tensor(0.3017, grad_fn=<DivBackward0>), tensor(0.2999, grad_fn=<DivBackward0>), tensor(0.2951, grad_fn=<DivBackward0>), tensor(0.2913, grad_fn=<DivBackward0>), tensor(0.2898, grad_fn=<DivBackward0>), tensor(0.2852, grad_fn=<DivBackward0>), tensor(0.2823, grad_fn=<DivBackward0>), tensor(0.2804, grad_fn=<DivBackward0>), tensor(0.2765, grad_fn=<DivBackward0>)]\n"
     ]
    }
   ],
   "source": [
    "torch.manual_seed(42)\n",
    "import torch.optim as optim\n",
    "import numpy as np\n",
    "losses = []\n",
    "epochs = 25\n",
    "loss_fn = nn.CrossEntropyLoss()\n",
    "optimizer = optim.SGD(first_model.parameters(), lr = 0.01)\n",
    "for epoch in range(epochs):\n",
    "    print(f\"this is the {epoch} epoch\")\n",
    "    total_loss = 0\n",
    "    for BATCH, (X, y) in enumerate(training_loader):\n",
    "        outputs = first_model(X)\n",
    "        loss = loss_fn(outputs, y)\n",
    "        total_loss += loss\n",
    "        optimizer.zero_grad()\n",
    "        loss.backward()\n",
    "        optimizer.step()\n",
    "    total_loss /= len(training_loader)\n",
    "    losses.append(total_loss)\n",
    "    print(f\"here's the loss good sir {total_loss}\")\n",
    "print(losses)"
   ]
  },
  {
   "cell_type": "code",
   "execution_count": 10,
   "id": "ca1e6e81-88aa-43c1-a3ee-ed719d86a631",
   "metadata": {},
   "outputs": [
    {
     "data": {
      "image/png": "[encoded data removed]",
      "text/plain": [
       "<Figure size 640x480 with 1 Axes>"
      ]
     },
     "metadata": {},
     "output_type": "display_data"
    }
   ],
   "source": [
    "import matplotlib.pyplot as plt\n",
    "losses = [i.item() for i in losses]\n",
    "losses = np.array(losses)\n",
    "plt.plot(losses)\n",
    "plt.title(\"training loss\")\n",
    "plt.show()"
   ]
  },
  {
   "cell_type": "code",
   "execution_count": 11,
   "id": "23f06767-dcce-4ef9-a3ea-26bebef536ef",
   "metadata": {},
   "outputs": [
    {
     "data": {
      "text/plain": [
       "array([0.67925894, 0.48133475, 0.43418905, 0.40988544, 0.39309841,\n",
       "       0.37823176, 0.36713216, 0.35635501, 0.34658867, 0.33774418,\n",
       "       0.33214873, 0.32562289, 0.31940037, 0.31616437, 0.30960828,\n",
       "       0.30496937, 0.30165771, 0.29992932, 0.29507881, 0.29129097,\n",
       "       0.2897554 , 0.28518134, 0.28225648, 0.28042907, 0.27651864])"
      ]
     },
     "execution_count": 11,
     "metadata": {},
     "output_type": "execute_result"
    }
   ],
   "source": [
    "losses"
   ]
  },
  {
   "cell_type": "code",
   "execution_count": 12,
   "id": "6fe22ab0-2081-4074-8cbf-8665c2363d46",
   "metadata": {},
   "outputs": [],
   "source": [
    "def accuracy_fn(y_true, y_pred):\n",
    "    correct = torch.eq(y_true, y_pred.argmax(0).sum().item()) # torch.eq() calculates where two tensors are equal\n",
    "    acc = (correct / len(y_pred)) * 100 \n",
    "    return acc"
   ]
  },
  {
   "cell_type": "code",
   "execution_count": 13,
   "id": "15e5f0f5-f49f-4fec-8325-1f66d0939813",
   "metadata": {},
   "outputs": [
    {
     "name": "stdout",
     "output_type": "stream",
     "text": [
      "Validation Loss: 29.312239764645078\n",
      "Validation Accuracy: 89.61\n"
     ]
    }
   ],
   "source": [
    "with torch.inference_mode():\n",
    "    total_loss = 0\n",
    "    correct_predictions = 0\n",
    "    total_samples = 0\n",
    "    for _, (X, y) in enumerate(validation_loader):\n",
    "        outputs = first_model(X)\n",
    "        test_loss = loss_fn(outputs, y)\n",
    "        total_loss += test_loss.item()\n",
    "        preds = torch.argmax(outputs, dim=1)\n",
    "        correct_predictions += (preds == y).sum().item()\n",
    "        total_samples += y.size(0)\n",
    "    total_loss /= len(validation_loader)\n",
    "    accuracy = correct_predictions / total_samples * 100\n",
    "\n",
    "print(f\"Validation Loss: {total_loss*100}\")\n",
    "print(f\"Validation Accuracy: {accuracy}\")"
   ]
  },
  {
   "cell_type": "code",
   "execution_count": 14,
   "id": "329a9e9a-11e5-4844-9197-83470570947f",
   "metadata": {},
   "outputs": [],
   "source": [
    "#Now that we have created a baseline CNN based model, let's try creating a residual model\n",
    "class ResNet(nn.Module):\n",
    "    \"\"\"This will be basically the same model as before, with a few additions (residual learning)\"\"\"\n",
    "    def __init__(self, input_channels : int, hidden_layers : int, out_shape : int):\n",
    "        super().__init__()\n",
    "        \n",
    "        self.conv1 = nn.Conv2d(in_channels = input_channels, out_channels = hidden_layers, kernel_size = 3, stride=1, padding=1)\n",
    "        self.relu = nn.ReLU()\n",
    "        self.conv2 = nn.Conv2d(in_channels = hidden_layers, out_channels = hidden_layers, kernel_size = 3, stride=1, padding=1)\n",
    "    \n",
    "        self.classifier = nn.Sequential(\n",
    "            nn.Flatten(),\n",
    "            nn.Linear(hidden_layers*14*14, out_shape)\n",
    "        )\n",
    "        \n",
    "        self.maxPool = nn.MaxPool2d(kernel_size = 2, stride = 2)\n",
    "\n",
    "    def forward(self, x):\n",
    "        identity = x\n",
    "        x = self.conv1(x)\n",
    "        x = self.relu(x)\n",
    "        x = self.conv2(x)\n",
    "        x = self.maxPool(x)\n",
    "        identity = self.maxPool(identity)\n",
    "        x = x + identity\n",
    "        x = self.classifier(x)\n",
    "        return x\n"
   ]
  },
  {
   "cell_type": "code",
   "execution_count": 15,
   "id": "641c4b2b-f79d-427d-afe4-6cfa0a433b47",
   "metadata": {},
   "outputs": [
    {
     "data": {
      "text/plain": [
       "(torch.Size([10, 14, 14]), torch.Size([1, 14, 14]))"
      ]
     },
     "execution_count": 15,
     "metadata": {},
     "output_type": "execute_result"
    }
   ],
   "source": [
    "conv_block = nn.Sequential(\n",
    "            nn.Conv2d(in_channels = 1, out_channels = 10, kernel_size = 3, stride=1, padding=1),\n",
    "            nn.ReLU(),\n",
    "            nn.Conv2d(in_channels = 10, out_channels = 10, kernel_size = 3, stride=1, padding=1),\n",
    "            nn.MaxPool2d(kernel_size=2, stride=2)\n",
    "        )\n",
    "image.shape\n",
    "out = conv_block(image)\n",
    "trans = nn.AvgPool2d(kernel_size = 2, stride = 2)\n",
    "out_2 = trans(image)\n",
    "out.shape, out_2.shape"
   ]
  },
  {
   "cell_type": "code",
   "execution_count": 16,
   "id": "d61d5485-77fb-498b-bbdd-235697b48a3e",
   "metadata": {},
   "outputs": [],
   "source": [
    "res_model = ResNet(1, 15, 10)"
   ]
  },
  {
   "cell_type": "code",
   "execution_count": 17,
   "id": "6872630f-a343-47f1-bb03-1c8a4a0a127e",
   "metadata": {},
   "outputs": [
    {
     "name": "stdout",
     "output_type": "stream",
     "text": [
      "this is the 0 epoch\n",
      "here's the loss good sir 0.652946412563324\n",
      "this is the 1 epoch\n",
      "here's the loss good sir 0.5066794753074646\n",
      "this is the 2 epoch\n",
      "here's the loss good sir 0.46384698152542114\n",
      "this is the 3 epoch\n",
      "here's the loss good sir 0.4393547475337982\n",
      "this is the 4 epoch\n",
      "here's the loss good sir 0.42041611671447754\n",
      "this is the 5 epoch\n",
      "here's the loss good sir 0.4047146439552307\n",
      "this is the 6 epoch\n",
      "here's the loss good sir 0.39224177598953247\n",
      "this is the 7 epoch\n",
      "here's the loss good sir 0.3811558485031128\n",
      "this is the 8 epoch\n",
      "here's the loss good sir 0.37039685249328613\n",
      "this is the 9 epoch\n",
      "here's the loss good sir 0.3602742552757263\n",
      "this is the 10 epoch\n",
      "here's the loss good sir 0.35210737586021423\n",
      "this is the 11 epoch\n",
      "here's the loss good sir 0.34330248832702637\n",
      "this is the 12 epoch\n",
      "here's the loss good sir 0.3372334837913513\n",
      "this is the 13 epoch\n",
      "here's the loss good sir 0.33080458641052246\n",
      "this is the 14 epoch\n",
      "here's the loss good sir 0.32410773634910583\n",
      "this is the 15 epoch\n",
      "here's the loss good sir 0.3176839053630829\n",
      "this is the 16 epoch\n",
      "here's the loss good sir 0.3123098909854889\n",
      "this is the 17 epoch\n",
      "here's the loss good sir 0.3111368417739868\n",
      "this is the 18 epoch\n",
      "here's the loss good sir 0.30586007237434387\n",
      "this is the 19 epoch\n",
      "here's the loss good sir 0.3019712567329407\n",
      "this is the 20 epoch\n",
      "here's the loss good sir 0.29878875613212585\n",
      "this is the 21 epoch\n",
      "here's the loss good sir 0.2960865795612335\n",
      "this is the 22 epoch\n",
      "here's the loss good sir 0.2929544150829315\n",
      "this is the 23 epoch\n",
      "here's the loss good sir 0.29088303446769714\n",
      "this is the 24 epoch\n",
      "here's the loss good sir 0.2863162159919739\n",
      "[0.67925894 0.48133475 0.43418905 0.40988544 0.39309841 0.37823176\n",
      " 0.36713216 0.35635501 0.34658867 0.33774418 0.33214873 0.32562289\n",
      " 0.31940037 0.31616437 0.30960828 0.30496937 0.30165771 0.29992932\n",
      " 0.29507881 0.29129097 0.2897554  0.28518134 0.28225648 0.28042907\n",
      " 0.27651864]\n"
     ]
    }
   ],
   "source": [
    "torch.manual_seed(42)\n",
    "import torch.optim as optim\n",
    "import numpy as np\n",
    "losses_2 = []\n",
    "epochs = 25\n",
    "loss_fn = nn.CrossEntropyLoss()\n",
    "optimizer = optim.SGD(res_model.parameters(), lr = 0.01)\n",
    "for epoch in range(epochs):\n",
    "    print(f\"this is the {epoch} epoch\")\n",
    "    total_loss = 0\n",
    "    for BATCH, (X, y) in enumerate(training_loader):\n",
    "        outputs = res_model(X)\n",
    "        loss = loss_fn(outputs, y)\n",
    "        total_loss += loss\n",
    "        optimizer.zero_grad()\n",
    "        loss.backward()\n",
    "        optimizer.step()\n",
    "    total_loss /= len(training_loader)\n",
    "    losses_2.append(total_loss)\n",
    "    print(f\"here's the loss good sir {total_loss}\")\n",
    "print(losses)"
   ]
  },
  {
   "cell_type": "code",
   "execution_count": 32,
   "id": "e714b67a-e96a-45e4-a59f-ee037778ce90",
   "metadata": {},
   "outputs": [
    {
     "data": {
      "image/png": "[encoded data removed]",
      "text/plain": [
       "<Figure size 640x480 with 1 Axes>"
      ]
     },
     "metadata": {},
     "output_type": "display_data"
    }
   ],
   "source": [
    "plt.plot(range(25), losses_2, label='ResNet Model Loss', color='blue')\n",
    "plt.plot(range(25), losses, label='CNN Model Loss', color='red')\n",
    "\n",
    "# Adding labels and title\n",
    "plt.xlabel('Epoch')\n",
    "plt.ylabel('Loss')\n",
    "plt.title('Losses for ResNet Model and CNN')\n",
    "\n",
    "# Adding a legend\n",
    "plt.legend()\n",
    "\n",
    "# Displaying the plot\n",
    "plt.show()"
   ]
  },
  {
   "cell_type": "code",
   "execution_count": 33,
   "id": "8612c858-0e4e-4aa0-87a6-7bf747269fbd",
   "metadata": {},
   "outputs": [
    {
     "name": "stdout",
     "output_type": "stream",
     "text": [
      "Validation Loss: 0.3061731804412203\n",
      "Validation Accuracy: 89.35\n"
     ]
    }
   ],
   "source": [
    "with torch.inference_mode():\n",
    "    total_loss = 0\n",
    "    correct_predictions = 0\n",
    "    total_samples = 0\n",
    "    for _, (X, y) in enumerate(validation_loader):\n",
    "        outputs = res_model(X)\n",
    "        test_loss = loss_fn(outputs, y)\n",
    "        total_loss += test_loss.item()\n",
    "        preds = torch.argmax(outputs, dim=1)\n",
    "        correct_predictions += (preds == y).sum().item()\n",
    "        total_samples += y.size(0)\n",
    "    total_loss /= len(validation_loader)\n",
    "    accuracy = correct_predictions / total_samples * 100\n",
    "\n",
    "print(f\"Validation Loss: {total_loss}\")\n",
    "print(f\"Validation Accuracy: {accuracy}\")"
   ]
  },
  {
   "cell_type": "code",
   "execution_count": 34,
   "id": "4b382bfd-fc49-41c9-bca9-7c89a92de1e0",
   "metadata": {},
   "outputs": [
    {
     "name": "stdout",
     "output_type": "stream",
     "text": [
      "Models saved successfully!\n"
     ]
    }
   ],
   "source": [
    "import torch\n",
    "\n",
    "# Save ResNet model\n",
    "torch.save(res_model.state_dict(), \"resnet_fashionMNIST.pth\")\n",
    "\n",
    "# Save CNN model\n",
    "torch.save(first_model.state_dict(), \"cnn_fashionMNIST.pth\")\n",
    "\n",
    "print(\"Models saved successfully!\")\n"
   ]
  },
  {
   "cell_type": "code",
   "execution_count": null,
   "id": "a53efdbe-5b51-4d35-a267-bbf177753361",
   "metadata": {},
   "outputs": [],
   "source": []
  },
  {
   "cell_type": "code",
   "execution_count": null,
   "id": "73cc862d-4233-4f5b-a1a3-a4e914e994a8",
   "metadata": {},
   "outputs": [],
   "source": []
  }
 ],
 "metadata": {
  "kernelspec": {
   "display_name": "Python 3 (ipykernel)",
   "language": "python",
   "name": "python3"
  },
  "language_info": {
   "codemirror_mode": {
    "name": "ipython",
    "version": 3
   },
   "file_extension": ".py",
   "mimetype": "text/x-python",
   "name": "python",
   "nbconvert_exporter": "python",
   "pygments_lexer": "ipython3",
   "version": "3.13.2"
  }
 },
 "nbformat": 4,
 "nbformat_minor": 5
}
